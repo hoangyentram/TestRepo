{
 "cells": [
  {
   "cell_type": "markdown",
   "id": "ae5e96d4-5226-4cd4-99b0-67cc78e2e303",
   "metadata": {},
   "source": [
    "## Data Science Tools and Ecosystem"
   ]
  },
  {
   "cell_type": "markdown",
   "id": "285e3dc2-06eb-4d75-b21f-bd987760d7df",
   "metadata": {},
   "source": [
    "### In this notebook, Data Science Tools and Ecosystem are summarized."
   ]
  },
  {
   "cell_type": "markdown",
   "id": "8a1b1db8-9f87-47e0-8112-b8c57c4d1c61",
   "metadata": {},
   "source": [
    "**Objectives:**\n",
    "- **Popular languages for Data Science**\n",
    "- **Machine learning algorithms**\n",
    "- **Data visualization techniques**\n",
    "- **Big data processing**\n",
    "- **Statistical analysis methods**"
   ]
  },
  {
   "cell_type": "markdown",
   "id": "877d9659-3d22-41cf-81be-7ede50ff85a0",
   "metadata": {},
   "source": [
    "### Some of the popular languages that Data Scientists use are:\n",
    "1. Python\n",
    "2. R"
   ]
  },
  {
   "cell_type": "markdown",
   "id": "f5f559c3-5831-44f7-9bdd-b229123f7305",
   "metadata": {},
   "source": [
    "### Some of the commonly used libraries used by Data Scientists include:\n",
    "1. Matplotlib\n",
    "2. Pandas"
   ]
  },
  {
   "cell_type": "markdown",
   "id": "5ccfa4e0-9654-49cd-9c58-136c12d29591",
   "metadata": {},
   "source": [
    "|Data Science Tools|\n",
    "|-|\n",
    "|- Jupyter Notebook|\n",
    "|- RStudio|\n",
    "|- Apache Spark|"
   ]
  },
  {
   "cell_type": "markdown",
   "id": "f4375de2-2350-42e4-bc46-488607427cf3",
   "metadata": {},
   "source": [
    "### Below are a few examples of evaluating arithmetic expressions in Python"
   ]
  },
  {
   "cell_type": "code",
   "execution_count": 3,
   "id": "4ee10283-9d61-4691-8b87-297a80728eba",
   "metadata": {},
   "outputs": [
    {
     "data": {
      "text/plain": [
       "17"
      ]
     },
     "execution_count": 3,
     "metadata": {},
     "output_type": "execute_result"
    }
   ],
   "source": [
    "(3*4)+5 # This a simple arithmetic expression to mutiply then add integers"
   ]
  },
  {
   "cell_type": "code",
   "execution_count": 4,
   "id": "df82dbf6-440b-4614-964b-f3cb6dbeb388",
   "metadata": {},
   "outputs": [
    {
     "name": "stdout",
     "output_type": "stream",
     "text": [
      "3\n"
     ]
    }
   ],
   "source": [
    "#This will convert 200 minutes to hours by diving by 60\n",
    "x = 200\n",
    "y = x//60\n",
    "print(y)"
   ]
  },
  {
   "cell_type": "markdown",
   "id": "17e8ed76-6718-4f5c-ae62-7bf6bdb762eb",
   "metadata": {},
   "source": [
    "## Author: Yen"
   ]
  },
  {
   "cell_type": "code",
   "execution_count": null,
   "id": "9ea7131d-a5cd-4606-bbc6-101c86f710fc",
   "metadata": {},
   "outputs": [],
   "source": []
  }
 ],
 "metadata": {
  "kernelspec": {
   "display_name": "Python 3 (ipykernel)",
   "language": "python",
   "name": "python3"
  },
  "language_info": {
   "codemirror_mode": {
    "name": "ipython",
    "version": 3
   },
   "file_extension": ".py",
   "mimetype": "text/x-python",
   "name": "python",
   "nbconvert_exporter": "python",
   "pygments_lexer": "ipython3",
   "version": "3.12.7"
  }
 },
 "nbformat": 4,
 "nbformat_minor": 5
}
